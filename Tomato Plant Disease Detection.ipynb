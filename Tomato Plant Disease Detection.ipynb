{
 "cells": [
  {
   "cell_type": "code",
   "execution_count": 5,
   "id": "92d3a0fd-01ce-480a-80e2-657ff807b59f",
   "metadata": {},
   "outputs": [],
   "source": [
    "import pandas as pd\n",
    "import os\n",
    "import opendatasets as od"
   ]
  },
  {
   "cell_type": "code",
   "execution_count": 1,
   "id": "a42227a1-78df-4b56-b542-710462f139b9",
   "metadata": {},
   "outputs": [
    {
     "name": "stderr",
     "output_type": "stream",
     "text": [
      "2024-05-21 13:38:44.950864: I tensorflow/core/platform/cpu_feature_guard.cc:210] This TensorFlow binary is optimized to use available CPU instructions in performance-critical operations.\n",
      "To enable the following instructions: AVX2 FMA, in other operations, rebuild TensorFlow with the appropriate compiler flags.\n"
     ]
    }
   ],
   "source": [
    "import numpy as np\n",
    "import pandas as pd \n",
    "import matplotlib.pyplot as plt\n",
    "import tensorflow as tf\n",
    "from tensorflow.keras import layers\n",
    "from time import perf_counter \n",
    "import os\n",
    "import seaborn as sns\n",
    "from PIL import Image \n",
    "from PIL import ImageEnhance\n",
    "from skimage.io import imread\n",
    "import matplotlib.pyplot as plt\n",
    "import os, random, pathlib, warnings, itertools, math\n",
    "warnings.filterwarnings(\"ignore\")\n",
    "import tensorflow.keras.backend as K\n",
    "from sklearn.metrics import confusion_matrix\n",
    "from tensorflow.keras import models\n",
    "from tensorflow.keras.models import Model\n",
    "from tensorflow.keras.models import load_model\n",
    "from tensorflow.keras.preprocessing import image\n",
    "from keras.preprocessing.image import load_img,img_to_array\n",
    "from tensorflow.keras.layers import Dense, Dropout, Flatten, Input, LeakyReLU\n",
    "from tensorflow.keras.layers import BatchNormalization, Activation, Conv2D \n",
    "from tensorflow.keras.applications import ResNet101V2\n",
    "from tensorflow.keras.models import Sequential\n",
    "from tensorflow.keras.preprocessing.image import ImageDataGenerator\n",
    "from tensorflow.keras.layers import Dense, Flatten, MaxPooling2D, Dense, Dropout\n",
    "K.clear_session()"
   ]
  },
  {
   "cell_type": "code",
   "execution_count": 2,
   "id": "9bb8314c-c90d-485a-b8ae-be3570332c1e",
   "metadata": {},
   "outputs": [],
   "source": [
    "## Defining batch specfications\n",
    "batch_size = 100\n",
    "img_height = 64\n",
    "img_width = 64"
   ]
  },
  {
   "cell_type": "code",
   "execution_count": null,
   "id": "72679f55",
   "metadata": {},
   "outputs": [],
   "source": [
    "training_data = tf.keras.preprocessing.image_dataset_from_directory(\"/kaggle/input/new-plant-diseases-dataset/New Plant Diseases Dataset(Augmented)/New Plant Diseases Dataset(Augmented)/train\",\n",
    "    seed=42,\n",
    "    image_size= (img_height, img_width),\n",
    "    batch_size=batch_size\n",
    ")"
   ]
  }
 ],
 "metadata": {
  "kernelspec": {
   "display_name": "Python 3 (ipykernel)",
   "language": "python",
   "name": "python3"
  },
  "language_info": {
   "codemirror_mode": {
    "name": "ipython",
    "version": 3
   },
   "file_extension": ".py",
   "mimetype": "text/x-python",
   "name": "python",
   "nbconvert_exporter": "python",
   "pygments_lexer": "ipython3",
   "version": "3.11.7"
  }
 },
 "nbformat": 4,
 "nbformat_minor": 5
}
